{
  "nbformat": 4,
  "nbformat_minor": 0,
  "metadata": {
    "kernelspec": {
      "display_name": "Python 3",
      "language": "python",
      "name": "python3"
    },
    "language_info": {
      "codemirror_mode": {
        "name": "ipython",
        "version": 3
      },
      "file_extension": ".py",
      "mimetype": "text/x-python",
      "name": "python",
      "nbconvert_exporter": "python",
      "pygments_lexer": "ipython3",
      "version": "3.7.3"
    },
    "colab": {
      "name": "「02 CNN.ipynb」的副本",
      "provenance": []
    },
    "widgets": {
      "application/vnd.jupyter.widget-state+json": {
        "fce6e04841894b37881c9f334e07d53f": {
          "model_module": "@jupyter-widgets/controls",
          "model_name": "VBoxModel",
          "state": {
            "_view_name": "VBoxView",
            "_dom_classes": [
              "widget-interact"
            ],
            "_model_name": "VBoxModel",
            "_view_module": "@jupyter-widgets/controls",
            "_model_module_version": "1.5.0",
            "_view_count": null,
            "_view_module_version": "1.5.0",
            "box_style": "",
            "layout": "IPY_MODEL_6287d68a685e45c5ba259296fa7bf9f5",
            "_model_module": "@jupyter-widgets/controls",
            "children": [
              "IPY_MODEL_bc58c0e0b1574c92a64bc5e3c5887c28",
              "IPY_MODEL_423f53063eed4181917eecf4d6284dda",
              "IPY_MODEL_014456e4788b4e49992e7015fda38938"
            ]
          }
        },
        "6287d68a685e45c5ba259296fa7bf9f5": {
          "model_module": "@jupyter-widgets/base",
          "model_name": "LayoutModel",
          "state": {
            "_view_name": "LayoutView",
            "grid_template_rows": null,
            "right": null,
            "justify_content": null,
            "_view_module": "@jupyter-widgets/base",
            "overflow": null,
            "_model_module_version": "1.2.0",
            "_view_count": null,
            "flex_flow": null,
            "width": null,
            "min_width": null,
            "border": null,
            "align_items": null,
            "bottom": null,
            "_model_module": "@jupyter-widgets/base",
            "top": null,
            "grid_column": null,
            "overflow_y": null,
            "overflow_x": null,
            "grid_auto_flow": null,
            "grid_area": null,
            "grid_template_columns": null,
            "flex": null,
            "_model_name": "LayoutModel",
            "justify_items": null,
            "grid_row": null,
            "max_height": null,
            "align_content": null,
            "visibility": null,
            "align_self": null,
            "height": null,
            "min_height": null,
            "padding": null,
            "grid_auto_rows": null,
            "grid_gap": null,
            "max_width": null,
            "order": null,
            "_view_module_version": "1.2.0",
            "grid_template_areas": null,
            "object_position": null,
            "object_fit": null,
            "grid_auto_columns": null,
            "margin": null,
            "display": null,
            "left": null
          }
        },
        "bc58c0e0b1574c92a64bc5e3c5887c28": {
          "model_module": "@jupyter-widgets/controls",
          "model_name": "IntSliderModel",
          "state": {
            "_view_name": "IntSliderView",
            "style": "IPY_MODEL_3e57701414c94642b367f72747bf28fb",
            "_dom_classes": [],
            "description": "n",
            "step": 1,
            "_model_name": "IntSliderModel",
            "orientation": "horizontal",
            "max": 9999,
            "_view_module": "@jupyter-widgets/controls",
            "_model_module_version": "1.5.0",
            "value": 4999,
            "_view_count": null,
            "disabled": false,
            "_view_module_version": "1.5.0",
            "min": 0,
            "continuous_update": true,
            "readout_format": "d",
            "description_tooltip": null,
            "readout": true,
            "_model_module": "@jupyter-widgets/controls",
            "layout": "IPY_MODEL_f62aaed67bc9477295e85d30541da177"
          }
        },
        "423f53063eed4181917eecf4d6284dda": {
          "model_module": "@jupyter-widgets/controls",
          "model_name": "ButtonModel",
          "state": {
            "_view_name": "ButtonView",
            "style": "IPY_MODEL_da8c4f4b34d74a8796404fdbba031e5d",
            "_dom_classes": [],
            "description": "Run Interact",
            "_model_name": "ButtonModel",
            "button_style": "",
            "_view_module": "@jupyter-widgets/controls",
            "_model_module_version": "1.5.0",
            "tooltip": "",
            "_view_count": null,
            "disabled": false,
            "_view_module_version": "1.5.0",
            "layout": "IPY_MODEL_6a93d489e4f542a0951661eb153f3c01",
            "_model_module": "@jupyter-widgets/controls",
            "icon": ""
          }
        },
        "014456e4788b4e49992e7015fda38938": {
          "model_module": "@jupyter-widgets/output",
          "model_name": "OutputModel",
          "state": {
            "_view_name": "OutputView",
            "msg_id": "",
            "_dom_classes": [],
            "_model_name": "OutputModel",
            "outputs": [
              {
                "output_type": "stream",
                "metadata": {
                  "tags": []
                },
                "text": "我可愛的 CNN 預測是 0\n",
                "stream": "stdout"
              },
              {
                "output_type": "display_data",
                "metadata": {
                  "tags": [],
                  "needs_background": "light"
                },
                "image/png": "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\n",
                "text/plain": "<Figure size 432x288 with 1 Axes>"
              }
            ],
            "_view_module": "@jupyter-widgets/output",
            "_model_module_version": "1.0.0",
            "_view_count": null,
            "_view_module_version": "1.0.0",
            "layout": "IPY_MODEL_82cfd031b006455cb44c63d910d1ea6a",
            "_model_module": "@jupyter-widgets/output"
          }
        },
        "3e57701414c94642b367f72747bf28fb": {
          "model_module": "@jupyter-widgets/controls",
          "model_name": "SliderStyleModel",
          "state": {
            "_view_name": "StyleView",
            "handle_color": null,
            "_model_name": "SliderStyleModel",
            "description_width": "",
            "_view_module": "@jupyter-widgets/base",
            "_model_module_version": "1.5.0",
            "_view_count": null,
            "_view_module_version": "1.2.0",
            "_model_module": "@jupyter-widgets/controls"
          }
        },
        "f62aaed67bc9477295e85d30541da177": {
          "model_module": "@jupyter-widgets/base",
          "model_name": "LayoutModel",
          "state": {
            "_view_name": "LayoutView",
            "grid_template_rows": null,
            "right": null,
            "justify_content": null,
            "_view_module": "@jupyter-widgets/base",
            "overflow": null,
            "_model_module_version": "1.2.0",
            "_view_count": null,
            "flex_flow": null,
            "width": null,
            "min_width": null,
            "border": null,
            "align_items": null,
            "bottom": null,
            "_model_module": "@jupyter-widgets/base",
            "top": null,
            "grid_column": null,
            "overflow_y": null,
            "overflow_x": null,
            "grid_auto_flow": null,
            "grid_area": null,
            "grid_template_columns": null,
            "flex": null,
            "_model_name": "LayoutModel",
            "justify_items": null,
            "grid_row": null,
            "max_height": null,
            "align_content": null,
            "visibility": null,
            "align_self": null,
            "height": null,
            "min_height": null,
            "padding": null,
            "grid_auto_rows": null,
            "grid_gap": null,
            "max_width": null,
            "order": null,
            "_view_module_version": "1.2.0",
            "grid_template_areas": null,
            "object_position": null,
            "object_fit": null,
            "grid_auto_columns": null,
            "margin": null,
            "display": null,
            "left": null
          }
        },
        "da8c4f4b34d74a8796404fdbba031e5d": {
          "model_module": "@jupyter-widgets/controls",
          "model_name": "ButtonStyleModel",
          "state": {
            "_view_name": "StyleView",
            "_model_name": "ButtonStyleModel",
            "_view_module": "@jupyter-widgets/base",
            "_model_module_version": "1.5.0",
            "_view_count": null,
            "button_color": null,
            "font_weight": "",
            "_view_module_version": "1.2.0",
            "_model_module": "@jupyter-widgets/controls"
          }
        },
        "6a93d489e4f542a0951661eb153f3c01": {
          "model_module": "@jupyter-widgets/base",
          "model_name": "LayoutModel",
          "state": {
            "_view_name": "LayoutView",
            "grid_template_rows": null,
            "right": null,
            "justify_content": null,
            "_view_module": "@jupyter-widgets/base",
            "overflow": null,
            "_model_module_version": "1.2.0",
            "_view_count": null,
            "flex_flow": null,
            "width": null,
            "min_width": null,
            "border": null,
            "align_items": null,
            "bottom": null,
            "_model_module": "@jupyter-widgets/base",
            "top": null,
            "grid_column": null,
            "overflow_y": null,
            "overflow_x": null,
            "grid_auto_flow": null,
            "grid_area": null,
            "grid_template_columns": null,
            "flex": null,
            "_model_name": "LayoutModel",
            "justify_items": null,
            "grid_row": null,
            "max_height": null,
            "align_content": null,
            "visibility": null,
            "align_self": null,
            "height": null,
            "min_height": null,
            "padding": null,
            "grid_auto_rows": null,
            "grid_gap": null,
            "max_width": null,
            "order": null,
            "_view_module_version": "1.2.0",
            "grid_template_areas": null,
            "object_position": null,
            "object_fit": null,
            "grid_auto_columns": null,
            "margin": null,
            "display": null,
            "left": null
          }
        },
        "82cfd031b006455cb44c63d910d1ea6a": {
          "model_module": "@jupyter-widgets/base",
          "model_name": "LayoutModel",
          "state": {
            "_view_name": "LayoutView",
            "grid_template_rows": null,
            "right": null,
            "justify_content": null,
            "_view_module": "@jupyter-widgets/base",
            "overflow": null,
            "_model_module_version": "1.2.0",
            "_view_count": null,
            "flex_flow": null,
            "width": null,
            "min_width": null,
            "border": null,
            "align_items": null,
            "bottom": null,
            "_model_module": "@jupyter-widgets/base",
            "top": null,
            "grid_column": null,
            "overflow_y": null,
            "overflow_x": null,
            "grid_auto_flow": null,
            "grid_area": null,
            "grid_template_columns": null,
            "flex": null,
            "_model_name": "LayoutModel",
            "justify_items": null,
            "grid_row": null,
            "max_height": null,
            "align_content": null,
            "visibility": null,
            "align_self": null,
            "height": null,
            "min_height": null,
            "padding": null,
            "grid_auto_rows": null,
            "grid_gap": null,
            "max_width": null,
            "order": null,
            "_view_module_version": "1.2.0",
            "grid_template_areas": null,
            "object_position": null,
            "object_fit": null,
            "grid_auto_columns": null,
            "margin": null,
            "display": null,
            "left": null
          }
        }
      }
    }
  },
  "cells": [
    {
      "cell_type": "code",
      "metadata": {
        "id": "ihWbYqzW-1j3"
      },
      "source": [
        "%matplotlib inline\n",
        "\n",
        "import numpy as np\n",
        "import matplotlib.pyplot as plt\n",
        "import pandas as pd"
      ],
      "execution_count": 1,
      "outputs": []
    },
    {
      "cell_type": "code",
      "metadata": {
        "id": "9vY222cK-1kE"
      },
      "source": [
        "from tensorflow.keras.utils import to_categorical\n",
        "from tensorflow.keras.models import Sequential\n",
        "from tensorflow.keras.layers import Conv2D, MaxPooling2D\n",
        "from tensorflow.keras.layers import Dense, Flatten\n",
        "from tensorflow.keras.optimizers import SGD\n",
        "#可以嘗試不同的優化方法"
      ],
      "execution_count": 2,
      "outputs": []
    },
    {
      "cell_type": "markdown",
      "metadata": {
        "id": "qyU-4IyA-1kN"
      },
      "source": [
        "### 1. 讀入 MNSIT 數據集"
      ]
    },
    {
      "cell_type": "code",
      "metadata": {
        "id": "Yy8jtMO7-1kP"
      },
      "source": [
        "from tensorflow.keras.datasets import mnist"
      ],
      "execution_count": 3,
      "outputs": []
    },
    {
      "cell_type": "code",
      "metadata": {
        "id": "1A2hAYIG-1kW"
      },
      "source": [
        "(x_train, y_train), (x_test, y_test) = mnist.load_data()\n",
        "#trainning和texting分開讀取"
      ],
      "execution_count": 4,
      "outputs": []
    },
    {
      "cell_type": "markdown",
      "metadata": {
        "id": "iJz2unfe-1kf"
      },
      "source": [
        "### 2. 資料整理"
      ]
    },
    {
      "cell_type": "markdown",
      "metadata": {
        "id": "1KmKm3uP-1kg"
      },
      "source": [
        "### Channel\n",
        "\n",
        "CNN 要注意一張圖有多少個 channel, 開始我們因為只有灰階, 所以只有一個 channel。因此我們要轉一下我們的資料格式:\n",
        "什麼是channel?假設是ＲＧＢ彩色照片，channel是3，灰階=1\n",
        "    (28,28) --> (28, 28, 1)"
      ]
    },
    {
      "cell_type": "code",
      "metadata": {
        "id": "Wn_vNMRr-1ki"
      },
      "source": [
        "x_train = x_train.reshape(60000, 28, 28, 1) / 255"
      ],
      "execution_count": 5,
      "outputs": []
    },
    {
      "cell_type": "code",
      "metadata": {
        "id": "9U8Wb7Hl-1kp"
      },
      "source": [
        "x_test = x_test.reshape(10000, 28, 28, 1) / 255"
      ],
      "execution_count": 6,
      "outputs": []
    },
    {
      "cell_type": "code",
      "metadata": {
        "id": "hci-KVGk-1ky"
      },
      "source": [
        "y_train = to_categorical(y_train, 10) #10個種類\n",
        "y_test = to_categorical(y_test, 10)"
      ],
      "execution_count": 7,
      "outputs": []
    },
    {
      "cell_type": "markdown",
      "metadata": {
        "id": "WFbtHt-6-1k6"
      },
      "source": [
        "### 3. step 1: 打造函數學習機 (CNN)"
      ]
    },
    {
      "cell_type": "code",
      "metadata": {
        "id": "UrvJsKwa-1k8"
      },
      "source": [
        "model = Sequential() #打開函數學習機"
      ],
      "execution_count": 8,
      "outputs": []
    },
    {
      "cell_type": "code",
      "metadata": {
        "id": "t0339WXD-1lD"
      },
      "source": [
        "model.add(Conv2D(8, (3,3), padding='same',#所謂在圖外面補一圈0\n",
        "                input_shape=(28,28,1),\n",
        "                activation='relu'))\n",
        "#第一層有8個filter"
      ],
      "execution_count": 9,
      "outputs": []
    },
    {
      "cell_type": "code",
      "metadata": {
        "id": "L-Orfujo-1lK"
      },
      "source": [
        "model.add(MaxPooling2D(pool_size=(2,2))) #maxpooling大小"
      ],
      "execution_count": 10,
      "outputs": []
    },
    {
      "cell_type": "code",
      "metadata": {
        "id": "3-GA85AC-1lS"
      },
      "source": [
        "model.add(Conv2D(16, (3,3), padding='same',\n",
        "                activation='relu'))"
      ],
      "execution_count": 11,
      "outputs": []
    },
    {
      "cell_type": "code",
      "metadata": {
        "id": "CsDSuvZn-1lZ"
      },
      "source": [
        "model.add(MaxPooling2D(pool_size=(2,2)))"
      ],
      "execution_count": 12,
      "outputs": []
    },
    {
      "cell_type": "code",
      "metadata": {
        "id": "au9s_hN5-1lg"
      },
      "source": [
        "model.add(Conv2D(32, (3,3), padding='same',\n",
        "                activation='relu'))"
      ],
      "execution_count": 13,
      "outputs": []
    },
    {
      "cell_type": "code",
      "metadata": {
        "id": "d-sq9LT--1lo"
      },
      "source": [
        "model.add(MaxPooling2D(pool_size=(2,2)))"
      ],
      "execution_count": 14,
      "outputs": []
    },
    {
      "cell_type": "code",
      "metadata": {
        "id": "Pjb2G1xO-1lv"
      },
      "source": [
        "model.add(Flatten())"
      ],
      "execution_count": 15,
      "outputs": []
    },
    {
      "cell_type": "code",
      "metadata": {
        "id": "ZwVdtXAb-1l1"
      },
      "source": [
        "model.add(Dense(20, activation='relu'))"
      ],
      "execution_count": 16,
      "outputs": []
    },
    {
      "cell_type": "code",
      "metadata": {
        "id": "5633Bsyf-1l6"
      },
      "source": [
        "model.add(Dense(10, activation='softmax'))"
      ],
      "execution_count": 17,
      "outputs": []
    },
    {
      "cell_type": "markdown",
      "metadata": {
        "id": "m93A9Zap-1l-"
      },
      "source": [
        "#### 看一下我們的神經網路"
      ]
    },
    {
      "cell_type": "code",
      "metadata": {
        "id": "nMZ7j59b-1mA",
        "outputId": "88d45f9a-4a32-42af-c324-39742622bf86",
        "colab": {
          "base_uri": "https://localhost:8080/"
        }
      },
      "source": [
        "model.summary()"
      ],
      "execution_count": 18,
      "outputs": [
        {
          "output_type": "stream",
          "text": [
            "Model: \"sequential\"\n",
            "_________________________________________________________________\n",
            "Layer (type)                 Output Shape              Param #   \n",
            "=================================================================\n",
            "conv2d (Conv2D)              (None, 28, 28, 8)         80        \n",
            "_________________________________________________________________\n",
            "max_pooling2d (MaxPooling2D) (None, 14, 14, 8)         0         \n",
            "_________________________________________________________________\n",
            "conv2d_1 (Conv2D)            (None, 14, 14, 16)        1168      \n",
            "_________________________________________________________________\n",
            "max_pooling2d_1 (MaxPooling2 (None, 7, 7, 16)          0         \n",
            "_________________________________________________________________\n",
            "conv2d_2 (Conv2D)            (None, 7, 7, 32)          4640      \n",
            "_________________________________________________________________\n",
            "max_pooling2d_2 (MaxPooling2 (None, 3, 3, 32)          0         \n",
            "_________________________________________________________________\n",
            "flatten (Flatten)            (None, 288)               0         \n",
            "_________________________________________________________________\n",
            "dense (Dense)                (None, 20)                5780      \n",
            "_________________________________________________________________\n",
            "dense_1 (Dense)              (None, 10)                210       \n",
            "=================================================================\n",
            "Total params: 11,878\n",
            "Trainable params: 11,878\n",
            "Non-trainable params: 0\n",
            "_________________________________________________________________\n"
          ],
          "name": "stdout"
        }
      ]
    },
    {
      "cell_type": "markdown",
      "metadata": {
        "id": "ZZCxng0d-1mF"
      },
      "source": [
        "#### 組裝"
      ]
    },
    {
      "cell_type": "code",
      "metadata": {
        "id": "eQlvnFLp-1mG"
      },
      "source": [
        "model.compile(loss='mse', optimizer=SGD(lr=0.087),\n",
        "             metrics=['accuracy'])"
      ],
      "execution_count": 19,
      "outputs": []
    },
    {
      "cell_type": "markdown",
      "metadata": {
        "id": "0dPgNCDg-1mL"
      },
      "source": [
        "### 4. step 2: fit"
      ]
    },
    {
      "cell_type": "code",
      "metadata": {
        "scrolled": true,
        "id": "MKNw4Xh5-1mM",
        "outputId": "f8312674-0812-4fe4-c1c9-5e47d36f7483",
        "colab": {
          "base_uri": "https://localhost:8080/"
        }
      },
      "source": [
        "model.fit(x_train, y_train, batch_size=128, epochs=12)"
      ],
      "execution_count": 20,
      "outputs": [
        {
          "output_type": "stream",
          "text": [
            "Epoch 1/12\n",
            "469/469 [==============================] - 25s 53ms/step - loss: 0.0896 - accuracy: 0.1247\n",
            "Epoch 2/12\n",
            "469/469 [==============================] - 24s 52ms/step - loss: 0.0867 - accuracy: 0.1823\n",
            "Epoch 3/12\n",
            "469/469 [==============================] - 24s 52ms/step - loss: 0.0752 - accuracy: 0.4429\n",
            "Epoch 4/12\n",
            "469/469 [==============================] - 24s 52ms/step - loss: 0.0474 - accuracy: 0.6728\n",
            "Epoch 5/12\n",
            "469/469 [==============================] - 24s 52ms/step - loss: 0.0340 - accuracy: 0.7655\n",
            "Epoch 6/12\n",
            "469/469 [==============================] - 24s 52ms/step - loss: 0.0246 - accuracy: 0.8324\n",
            "Epoch 7/12\n",
            "469/469 [==============================] - 24s 52ms/step - loss: 0.0226 - accuracy: 0.8443\n",
            "Epoch 8/12\n",
            "469/469 [==============================] - 24s 52ms/step - loss: 0.0213 - accuracy: 0.8522\n",
            "Epoch 9/12\n",
            "469/469 [==============================] - 24s 52ms/step - loss: 0.0204 - accuracy: 0.8582\n",
            "Epoch 10/12\n",
            "469/469 [==============================] - 24s 52ms/step - loss: 0.0196 - accuracy: 0.8623\n",
            "Epoch 11/12\n",
            "469/469 [==============================] - 24s 52ms/step - loss: 0.0190 - accuracy: 0.8660\n",
            "Epoch 12/12\n",
            "469/469 [==============================] - 24s 52ms/step - loss: 0.0185 - accuracy: 0.8689\n"
          ],
          "name": "stdout"
        },
        {
          "output_type": "execute_result",
          "data": {
            "text/plain": [
              "<tensorflow.python.keras.callbacks.History at 0x7f4b819b8f98>"
            ]
          },
          "metadata": {
            "tags": []
          },
          "execution_count": 20
        }
      ]
    },
    {
      "cell_type": "markdown",
      "metadata": {
        "id": "xSWN0ngQ-1mR"
      },
      "source": [
        "### Step 3. 預測"
      ]
    },
    {
      "cell_type": "code",
      "metadata": {
        "id": "I6S4jTmL-1mR",
        "outputId": "fc4c955e-7449-4f30-fd0b-5f65e3dad84e",
        "colab": {
          "base_uri": "https://localhost:8080/"
        }
      },
      "source": [
        "result = model.predict_classes(x_test)"
      ],
      "execution_count": 21,
      "outputs": [
        {
          "output_type": "stream",
          "text": [
            "WARNING:tensorflow:From <ipython-input-21-63af5bb2f9b6>:1: Sequential.predict_classes (from tensorflow.python.keras.engine.sequential) is deprecated and will be removed after 2021-01-01.\n",
            "Instructions for updating:\n",
            "Please use instead:* `np.argmax(model.predict(x), axis=-1)`,   if your model does multi-class classification   (e.g. if it uses a `softmax` last-layer activation).* `(model.predict(x) > 0.5).astype(\"int32\")`,   if your model does binary classification   (e.g. if it uses a `sigmoid` last-layer activation).\n"
          ],
          "name": "stdout"
        }
      ]
    },
    {
      "cell_type": "markdown",
      "metadata": {
        "id": "1aOcLEry-1mW"
      },
      "source": [
        "### 看看測試資料表現如何"
      ]
    },
    {
      "cell_type": "code",
      "metadata": {
        "id": "1InTPqFf-1mX",
        "outputId": "28508abe-da3d-459b-ab5c-3f2f525584f8",
        "colab": {
          "base_uri": "https://localhost:8080/"
        }
      },
      "source": [
        "loss, acc = model.evaluate(x_test, y_test)"
      ],
      "execution_count": 22,
      "outputs": [
        {
          "output_type": "stream",
          "text": [
            "313/313 [==============================] - 2s 8ms/step - loss: 0.0179 - accuracy: 0.8742\n"
          ],
          "name": "stdout"
        }
      ]
    },
    {
      "cell_type": "code",
      "metadata": {
        "id": "KICdXVXR-1me",
        "outputId": "5d10ce57-a815-4ed6-9ec0-f553fd5e5008",
        "colab": {
          "base_uri": "https://localhost:8080/"
        }
      },
      "source": [
        "print(f'測試資料的正確率為 {acc*100:.2f}%')"
      ],
      "execution_count": 23,
      "outputs": [
        {
          "output_type": "stream",
          "text": [
            "測試資料的正確率為 87.42%\n"
          ],
          "name": "stdout"
        }
      ]
    },
    {
      "cell_type": "code",
      "metadata": {
        "id": "EXl9aLIE-1mj"
      },
      "source": [
        "def my_predict(n):\n",
        "    print('我可愛的 CNN 預測是', result[n])\n",
        "    X = x_test[n].reshape(28,28)\n",
        "    plt.imshow(X, cmap='Greys')"
      ],
      "execution_count": 24,
      "outputs": []
    },
    {
      "cell_type": "code",
      "metadata": {
        "id": "5rOwNno--1mp"
      },
      "source": [
        "from ipywidgets import interact_manual"
      ],
      "execution_count": 25,
      "outputs": []
    },
    {
      "cell_type": "code",
      "metadata": {
        "id": "5YKz0LWb-1mt",
        "outputId": "54a57a08-8a7d-410a-b91f-af04de3c9132",
        "colab": {
          "base_uri": "https://localhost:8080/",
          "height": 346,
          "referenced_widgets": [
            "fce6e04841894b37881c9f334e07d53f",
            "6287d68a685e45c5ba259296fa7bf9f5",
            "bc58c0e0b1574c92a64bc5e3c5887c28",
            "423f53063eed4181917eecf4d6284dda",
            "014456e4788b4e49992e7015fda38938",
            "3e57701414c94642b367f72747bf28fb",
            "f62aaed67bc9477295e85d30541da177",
            "da8c4f4b34d74a8796404fdbba031e5d",
            "6a93d489e4f542a0951661eb153f3c01",
            "82cfd031b006455cb44c63d910d1ea6a"
          ]
        }
      },
      "source": [
        "interact_manual(my_predict, n=(0, 9999));"
      ],
      "execution_count": 26,
      "outputs": [
        {
          "output_type": "display_data",
          "data": {
            "application/vnd.jupyter.widget-view+json": {
              "model_id": "fce6e04841894b37881c9f334e07d53f",
              "version_minor": 0,
              "version_major": 2
            },
            "text/plain": [
              "interactive(children=(IntSlider(value=4999, description='n', max=9999), Button(description='Run Interact', sty…"
            ]
          },
          "metadata": {
            "tags": []
          }
        }
      ]
    },
    {
      "cell_type": "markdown",
      "metadata": {
        "id": "BWHQ4tC9-1mz"
      },
      "source": [
        "### 把我們的 model 存起來"
      ]
    },
    {
      "cell_type": "code",
      "metadata": {
        "id": "Pxi5Yc2J-1m0"
      },
      "source": [
        "model.save('myCNNmodel.h5')"
      ],
      "execution_count": 27,
      "outputs": []
    }
  ]
}